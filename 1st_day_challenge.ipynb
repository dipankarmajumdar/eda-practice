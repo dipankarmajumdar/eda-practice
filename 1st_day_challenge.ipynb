{
 "cells": [
  {
   "cell_type": "markdown",
   "id": "a5ed0892",
   "metadata": {},
   "source": [
    "### Import Library"
   ]
  },
  {
   "cell_type": "code",
   "execution_count": 1,
   "id": "a7e6d78f",
   "metadata": {},
   "outputs": [],
   "source": [
    "import pandas as pd"
   ]
  },
  {
   "cell_type": "markdown",
   "id": "92cbb54e",
   "metadata": {},
   "source": [
    "### Load the dataset"
   ]
  },
  {
   "cell_type": "code",
   "execution_count": 2,
   "id": "c0a2bac0",
   "metadata": {},
   "outputs": [],
   "source": [
    "df = pd.read_csv('sales_data.csv')"
   ]
  },
  {
   "cell_type": "markdown",
   "id": "829af8a8",
   "metadata": {},
   "source": [
    "### Show first 5 rows"
   ]
  },
  {
   "cell_type": "code",
   "execution_count": 3,
   "id": "03a99922",
   "metadata": {},
   "outputs": [
    {
     "name": "stdout",
     "output_type": "stream",
     "text": [
      "First 5 rows:\n",
      "   Index   Height(Inches)\"   \"Weight(Pounds)\"\n",
      "0      1             65.78             112.99\n",
      "1      2             71.52             136.49\n",
      "2      3             69.40             153.03\n",
      "3      4             68.22             142.34\n",
      "4      5             67.79             144.30\n"
     ]
    }
   ],
   "source": [
    "print(\"First 5 rows:\")\n",
    "print(df.head())"
   ]
  },
  {
   "cell_type": "markdown",
   "id": "5816e382",
   "metadata": {},
   "source": [
    "### Basic information"
   ]
  },
  {
   "cell_type": "code",
   "execution_count": 4,
   "id": "a83bed37",
   "metadata": {},
   "outputs": [
    {
     "name": "stdout",
     "output_type": "stream",
     "text": [
      "DataFrame Info:\n",
      "<class 'pandas.core.frame.DataFrame'>\n",
      "RangeIndex: 200 entries, 0 to 199\n",
      "Data columns (total 3 columns):\n",
      " #   Column             Non-Null Count  Dtype  \n",
      "---  ------             --------------  -----  \n",
      " 0   Index              200 non-null    int64  \n",
      " 1    Height(Inches)\"   200 non-null    float64\n",
      " 2    \"Weight(Pounds)\"  200 non-null    float64\n",
      "dtypes: float64(2), int64(1)\n",
      "memory usage: 4.8 KB\n",
      "None\n"
     ]
    }
   ],
   "source": [
    "print(\"DataFrame Info:\")\n",
    "print(df.info())"
   ]
  },
  {
   "cell_type": "markdown",
   "id": "6e64a0ff",
   "metadata": {},
   "source": [
    "### Statistical Summary"
   ]
  },
  {
   "cell_type": "code",
   "execution_count": 5,
   "id": "f4531e20",
   "metadata": {},
   "outputs": [
    {
     "name": "stdout",
     "output_type": "stream",
     "text": [
      "Summary Statistics:\n",
      "            Index   Height(Inches)\"   \"Weight(Pounds)\"\n",
      "count  200.000000        200.000000         200.000000\n",
      "mean   100.500000         67.949800         127.221950\n",
      "std     57.879185          1.940363          11.960959\n",
      "min      1.000000         63.430000          97.900000\n",
      "25%     50.750000         66.522500         119.895000\n",
      "50%    100.500000         67.935000         127.875000\n",
      "75%    150.250000         69.202500         136.097500\n",
      "max    200.000000         73.900000         158.960000\n"
     ]
    }
   ],
   "source": [
    "print(\"Summary Statistics:\")\n",
    "print(df.describe())"
   ]
  },
  {
   "cell_type": "markdown",
   "id": "03e377db",
   "metadata": {},
   "source": [
    "### Column Names"
   ]
  },
  {
   "cell_type": "code",
   "execution_count": 6,
   "id": "fab322b0",
   "metadata": {},
   "outputs": [
    {
     "name": "stdout",
     "output_type": "stream",
     "text": [
      "Column Names:\n",
      "Index(['Index', ' Height(Inches)\"', ' \"Weight(Pounds)\"'], dtype='object')\n"
     ]
    }
   ],
   "source": [
    "print(\"Column Names:\")\n",
    "print(df.columns)"
   ]
  }
 ],
 "metadata": {
  "kernelspec": {
   "display_name": "base",
   "language": "python",
   "name": "python3"
  },
  "language_info": {
   "codemirror_mode": {
    "name": "ipython",
    "version": 3
   },
   "file_extension": ".py",
   "mimetype": "text/x-python",
   "name": "python",
   "nbconvert_exporter": "python",
   "pygments_lexer": "ipython3",
   "version": "3.11.13"
  }
 },
 "nbformat": 4,
 "nbformat_minor": 5
}
